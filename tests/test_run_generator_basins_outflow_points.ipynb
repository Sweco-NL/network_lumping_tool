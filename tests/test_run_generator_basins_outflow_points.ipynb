{
 "cells": [
  {
   "cell_type": "code",
   "execution_count": null,
   "metadata": {},
   "outputs": [],
   "source": [
    "from pathlib import Path\n",
    "import logging\n",
    "from dotenv import dotenv_values\n",
    "import pandas as pd\n",
    "import geopandas as gpd\n",
    "import numpy as np\n",
    "\n",
    "from network_lumping import run_network_lumping_to_generate_basins\n",
    "from shapely.geometry import LineString, Polygon\n",
    "\n",
    "logging.basicConfig(level=logging.DEBUG)"
   ]
  },
  {
   "cell_type": "code",
   "execution_count": null,
   "metadata": {},
   "outputs": [],
   "source": [
    "%load_ext autoreload\n",
    "%autoreload 2"
   ]
  },
  {
   "cell_type": "code",
   "execution_count": null,
   "metadata": {},
   "outputs": [],
   "source": [
    "config = dotenv_values(\"..\\\\.env\")\n",
    "base_dir = Path(config[\"DATA_DIR\"])\n",
    "\n",
    "case_name = \"test\"\n",
    "# case_name = \"aa_en_maas\""
   ]
  },
  {
   "cell_type": "code",
   "execution_count": null,
   "metadata": {},
   "outputs": [],
   "source": [
    "case_path = Path(base_dir, case_name)"
   ]
  },
  {
   "cell_type": "code",
   "execution_count": null,
   "metadata": {},
   "outputs": [],
   "source": [
    "network = run_network_lumping_to_generate_basins(\n",
    "    path=case_path, \n",
    "    html_file_name=None\n",
    ")"
   ]
  },
  {
   "cell_type": "code",
   "execution_count": null,
   "metadata": {},
   "outputs": [],
   "source": [
    "network.folium_map"
   ]
  },
  {
   "cell_type": "code",
   "execution_count": null,
   "metadata": {},
   "outputs": [],
   "source": []
  },
  {
   "cell_type": "code",
   "execution_count": null,
   "metadata": {},
   "outputs": [],
   "source": [
    "## TEST DETECT  ##\n",
    "uitstroom_nodes = network.uitstroom_punten.representatieve_node.values\n",
    "direction = network.direction\n",
    " \n",
    "uitstroom_edges = None\n",
    "\n",
    "for node in network.uitstroom_nodes.nodeID.values:\n",
    "    upstream_edges = network.uitstroom_edges[(network.uitstroom_edges.node_start==node)].copy()\n",
    " \n",
    "    uitstroom_punten_columns = [f\"{direction}_node_{n}\" for n in uitstroom_nodes]\n",
    " \n",
    "    # drop if all columns are False\n",
    "    upstream_edges[uitstroom_punten_columns] = upstream_edges[uitstroom_punten_columns].replace(False, np.nan).copy()\n",
    "    upstream_edges = upstream_edges.dropna(subset=uitstroom_punten_columns, how='all')\n",
    " \n",
    "    # checked if all columns are equal\n",
    "    edges = upstream_edges.drop_duplicates(subset=uitstroom_punten_columns)\n",
    "    if len(edges) > 1:\n",
    "        if uitstroom_edges is None:\n",
    "            uitstroom_edges = edges.copy()\n",
    "        else:\n",
    "            uitstroom_edges = pd.concat([uitstroom_edges, edges])\n",
    "   \n",
    "uitstroom_edges[uitstroom_punten_columns] = uitstroom_edges[uitstroom_punten_columns].replace(np.nan, False).copy()"
   ]
  }
 ],
 "metadata": {
  "kernelspec": {
   "display_name": "default",
   "language": "python",
   "name": "python3"
  },
  "language_info": {
   "codemirror_mode": {
    "name": "ipython",
    "version": 3
   },
   "file_extension": ".py",
   "mimetype": "text/x-python",
   "name": "python",
   "nbconvert_exporter": "python",
   "pygments_lexer": "ipython3",
   "version": "3.12.7"
  }
 },
 "nbformat": 4,
 "nbformat_minor": 2
}
