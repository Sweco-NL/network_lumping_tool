{
 "cells": [
  {
   "cell_type": "code",
   "execution_count": 1,
   "metadata": {},
   "outputs": [],
   "source": [
    "import xarray as xr\n",
    "from pathlib import Path"
   ]
  },
  {
   "cell_type": "code",
   "execution_count": 2,
   "metadata": {},
   "outputs": [],
   "source": [
    "dir_nc = r\"\\\\sweco.se\\\\common\\\\NL\\\\Archive\\\\NLPE\\\\51021232\\\\51021232_D-Hydro_modellen_Vallei_en_Veluwe\\\\300 Werkdocumenten\\\\6_dhydro_modellen\\\\Oost\\\\1Q_winter\\\\dflowfm\\\\output\\\\\"\n",
    "path_his_nc = dir_nc + \"FlowFM_his.1.0.nc\"\n",
    "path_map_nc = dir_nc + \"FlowFM_map.1.0.nc\"\n",
    "path_rst_nc = dir_nc + \"FlowFM_20220115_000000_rst.1.0.nc\""
   ]
  },
  {
   "cell_type": "code",
   "execution_count": 3,
   "metadata": {},
   "outputs": [],
   "source": [
    "# ds_his = xr.open_dataset(path_his_nc)\n",
    "# ds_map = xr.open_dataset(path_map_nc)\n",
    "ds_rst = xr.open_dataset(path_rst_nc)"
   ]
  },
  {
   "cell_type": "code",
   "execution_count": null,
   "metadata": {},
   "outputs": [],
   "source": [
    "ds_rst.q1.data.size"
   ]
  },
  {
   "cell_type": "code",
   "execution_count": null,
   "metadata": {},
   "outputs": [],
   "source": [
    "ds_rst.q1.isel(time=-1).plot()"
   ]
  },
  {
   "cell_type": "code",
   "execution_count": null,
   "metadata": {},
   "outputs": [],
   "source": [
    "ds_rst.FlowElem_ycc.data"
   ]
  },
  {
   "cell_type": "code",
   "execution_count": null,
   "metadata": {},
   "outputs": [],
   "source": []
  }
 ],
 "metadata": {
  "kernelspec": {
   "display_name": ".venv",
   "language": "python",
   "name": "python3"
  },
  "language_info": {
   "codemirror_mode": {
    "name": "ipython",
    "version": 3
   },
   "file_extension": ".py",
   "mimetype": "text/x-python",
   "name": "python",
   "nbconvert_exporter": "python",
   "pygments_lexer": "ipython3",
   "version": "3.11.9"
  }
 },
 "nbformat": 4,
 "nbformat_minor": 2
}
