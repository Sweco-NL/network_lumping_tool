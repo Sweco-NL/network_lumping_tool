{
 "cells": [
  {
   "cell_type": "code",
   "execution_count": null,
   "metadata": {},
   "outputs": [],
   "source": [
    "from pathlib import Path\n",
    "\n",
    "import matplotlib.pyplot as plt\n",
    "import momepy\n",
    "import networkx as nx\n",
    "\n",
    "from src.network_lumping import NetworkLumping"
   ]
  },
  {
   "cell_type": "code",
   "execution_count": 3,
   "metadata": {},
   "outputs": [],
   "source": [
    "%load_ext autoreload\n",
    "%autoreload 2"
   ]
  },
  {
   "cell_type": "code",
   "execution_count": 4,
   "metadata": {},
   "outputs": [],
   "source": [
    "basis_gpkg = \"p:\\\\5325\\\\51024343_AaEnMaas_Afwateringseenheden_Lumpen\\\\300 Werkdocumenten\\\\3_analyse\\\\test\\\\1_data_bewerkt.gpkg\"\n",
    "\n",
    "n = NetworkLumping(name=\"Aa en Maas\")\n",
    "n.read_basis_data_from_gpkg(\n",
    "    basis_gpkg=Path(basis_gpkg),\n",
    "    edges_layer=\"hydroobjecten\",\n",
    "    edges_id_column=\"CODE\",\n",
    "    areas_layer=\"afwateringseenheden\",\n",
    "    areas_id_column=\"Id\",\n",
    ")"
   ]
  },
  {
   "cell_type": "code",
   "execution_count": null,
   "metadata": {},
   "outputs": [],
   "source": [
    "positions = {n: [n[0], n[1]] for n in list(n.G.nodes)}\n",
    "\n",
    "f, ax = plt.subplots(1, 1, figsize=(10, 6))\n",
    "nx.draw(n.G, positions, ax=ax, node_size=8)\n",
    "ax.axis(\"equal\")\n",
    "plt.tight_layout()"
   ]
  },
  {
   "cell_type": "code",
   "execution_count": null,
   "metadata": {},
   "outputs": [],
   "source": []
  }
 ],
 "metadata": {
  "kernelspec": {
   "display_name": ".venv",
   "language": "python",
   "name": "python3"
  },
  "language_info": {
   "codemirror_mode": {
    "name": "ipython",
    "version": 3
   },
   "file_extension": ".py",
   "mimetype": "text/x-python",
   "name": "python",
   "nbconvert_exporter": "python",
   "pygments_lexer": "ipython3",
   "version": "3.11.9"
  }
 },
 "nbformat": 4,
 "nbformat_minor": 2
}
