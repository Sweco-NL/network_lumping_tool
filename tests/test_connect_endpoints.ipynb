{
 "cells": [
  {
   "cell_type": "code",
   "execution_count": 1,
   "metadata": {},
   "outputs": [],
   "source": [
    "import geopandas as gpd\n",
    "import pandas as pd\n",
    "import networkx as nx\n",
    "from shapely.geometry import Polygon, Point, LineString\n",
    "import os\n",
    "import sys\n",
    "from pathlib import Path"
   ]
  },
  {
   "cell_type": "code",
   "execution_count": 7,
   "metadata": {},
   "outputs": [],
   "source": [
    "%load_ext autoreload\n",
    "%autoreload 2"
   ]
  },
  {
   "cell_type": "code",
   "execution_count": 2,
   "metadata": {},
   "outputs": [],
   "source": [
    "# script_dir = os.path.dirname(os.path.abspath(__file__))\n",
    "# sys.path.append(os.path.dirname(script_dir))"
   ]
  },
  {
   "cell_type": "code",
   "execution_count": 3,
   "metadata": {},
   "outputs": [
    {
     "name": "stderr",
     "output_type": "stream",
     "text": [
      "c:\\Users\\NL1C2G\\Documents\\network_lumping_git\\network_lumping_tool\\.venv\\Lib\\site-packages\\tqdm\\auto.py:21: TqdmWarning: IProgress not found. Please update jupyter and ipywidgets. See https://ipywidgets.readthedocs.io/en/stable/user_install.html\n",
      "  from .autonotebook import tqdm as notebook_tqdm\n"
     ]
    }
   ],
   "source": [
    "from src.network_lumping.preprocessing.general import remove_z_dims, connect_endpoints_by_buffer"
   ]
  },
  {
   "cell_type": "code",
   "execution_count": 4,
   "metadata": {},
   "outputs": [
    {
     "name": "stdout",
     "output_type": "stream",
     "text": [
      "p:\\5325\\51024343_AaEnMaas_Afwateringseenheden_Lumpen\\300 Werkdocumenten\\3_analyse\\aa_en_maas\\0_basisdata.gpkg\n"
     ]
    }
   ],
   "source": [
    "basis_gpkg = 'p:\\\\5325\\\\51024343_AaEnMaas_Afwateringseenheden_Lumpen\\\\300 Werkdocumenten\\\\3_analyse\\\\aa_en_maas\\\\0_basisdata.gpkg'\n",
    "print(basis_gpkg)\n",
    "hydro_objects = gpd.read_file(basis_gpkg, layer=\"hydroobjecten\").to_crs(28992)\n",
    "hydro_objects.rename(columns={'CODE':'code'}, inplace=True)"
   ]
  },
  {
   "cell_type": "code",
   "execution_count": 5,
   "metadata": {},
   "outputs": [],
   "source": [
    "# Function to convert LineString Z to 2D\n",
    "hydro_objects = remove_z_dims(hydro_objects)"
   ]
  },
  {
   "cell_type": "code",
   "execution_count": null,
   "metadata": {},
   "outputs": [],
   "source": [
    "# Now you can safely call your connect_endpoints_by_buffer function\n",
    "result = connect_endpoints_by_buffer(hydro_objects)"
   ]
  },
  {
   "cell_type": "code",
   "execution_count": 6,
   "metadata": {},
   "outputs": [
    {
     "data": {
      "text/html": [
       "<div>\n",
       "<style scoped>\n",
       "    .dataframe tbody tr th:only-of-type {\n",
       "        vertical-align: middle;\n",
       "    }\n",
       "\n",
       "    .dataframe tbody tr th {\n",
       "        vertical-align: top;\n",
       "    }\n",
       "\n",
       "    .dataframe thead th {\n",
       "        text-align: right;\n",
       "    }\n",
       "</style>\n",
       "<table border=\"1\" class=\"dataframe\">\n",
       "  <thead>\n",
       "    <tr style=\"text-align: right;\">\n",
       "      <th></th>\n",
       "      <th>code</th>\n",
       "      <th>CATEGORIEO</th>\n",
       "      <th>SOORTOPPWA</th>\n",
       "      <th>STATUSLEGG</th>\n",
       "      <th>STATUSOBJE</th>\n",
       "      <th>HYDROOBJEC</th>\n",
       "      <th>KRWSTROMEN</th>\n",
       "      <th>HYDROOBJ_1</th>\n",
       "      <th>BREEDTE</th>\n",
       "      <th>geometry</th>\n",
       "    </tr>\n",
       "  </thead>\n",
       "  <tbody>\n",
       "    <tr>\n",
       "      <th>0</th>\n",
       "      <td>1020808</td>\n",
       "      <td>primair</td>\n",
       "      <td>waterloop (watergang)</td>\n",
       "      <td>Vastgesteld</td>\n",
       "      <td>gerealiseerd</td>\n",
       "      <td>{7B2A550D-557F-451B-AEDE-1FDB6721B064}</td>\n",
       "      <td>None</td>\n",
       "      <td>{B2C277B3-E0A6-485F-827C-41216D24412D}</td>\n",
       "      <td>0.0</td>\n",
       "      <td>LINESTRING (150223.258 412143.16, 150223.076 4...</td>\n",
       "    </tr>\n",
       "    <tr>\n",
       "      <th>1</th>\n",
       "      <td>1200158</td>\n",
       "      <td>primair</td>\n",
       "      <td>waterloop (watergang)</td>\n",
       "      <td>Vastgesteld</td>\n",
       "      <td>gerealiseerd</td>\n",
       "      <td>{69740C00-EE97-45AD-8188-E3402DA32F19}</td>\n",
       "      <td>None</td>\n",
       "      <td>{2D70EDA6-F8AC-4897-B64C-8FB119738024}</td>\n",
       "      <td>0.0</td>\n",
       "      <td>LINESTRING (151876.581 411604.163, 151871.758 ...</td>\n",
       "    </tr>\n",
       "    <tr>\n",
       "      <th>2</th>\n",
       "      <td>1039030</td>\n",
       "      <td>primair</td>\n",
       "      <td>waterloop (watergang)</td>\n",
       "      <td>Vastgesteld</td>\n",
       "      <td>gerealiseerd</td>\n",
       "      <td>{8CBAE45D-54B8-44A5-9AC9-A7E2FA521FD2}</td>\n",
       "      <td>None</td>\n",
       "      <td>{EA6595C0-1689-43ED-BA66-320850478B49}</td>\n",
       "      <td>0.0</td>\n",
       "      <td>LINESTRING (163002.609 417664.746, 163002.497 ...</td>\n",
       "    </tr>\n",
       "    <tr>\n",
       "      <th>3</th>\n",
       "      <td>2044277</td>\n",
       "      <td>primair</td>\n",
       "      <td>waterloop (watergang)</td>\n",
       "      <td>Vastgesteld</td>\n",
       "      <td>gerealiseerd</td>\n",
       "      <td>{421112E8-A9BA-4E53-AC32-CC5AEADF4D17}</td>\n",
       "      <td>None</td>\n",
       "      <td>{CCE9D028-2C2D-49D7-8FE7-6F937124C0FB}</td>\n",
       "      <td>0.0</td>\n",
       "      <td>LINESTRING (153115.797 412182.957, 153115.215 ...</td>\n",
       "    </tr>\n",
       "    <tr>\n",
       "      <th>4</th>\n",
       "      <td>1190070</td>\n",
       "      <td>primair</td>\n",
       "      <td>waterloop (watergang)</td>\n",
       "      <td>Vastgesteld</td>\n",
       "      <td>gerealiseerd</td>\n",
       "      <td>{D52EEE21-9364-4F9C-B5E5-C3A5205315EB}</td>\n",
       "      <td>None</td>\n",
       "      <td>{34BD90ED-875B-4C18-802B-A57A479DCFBA}</td>\n",
       "      <td>0.0</td>\n",
       "      <td>LINESTRING (150843.187 410863.016, 150838.463 ...</td>\n",
       "    </tr>\n",
       "  </tbody>\n",
       "</table>\n",
       "</div>"
      ],
      "text/plain": [
       "      code CATEGORIEO             SOORTOPPWA   STATUSLEGG    STATUSOBJE  \\\n",
       "0  1020808    primair  waterloop (watergang)  Vastgesteld  gerealiseerd   \n",
       "1  1200158    primair  waterloop (watergang)  Vastgesteld  gerealiseerd   \n",
       "2  1039030    primair  waterloop (watergang)  Vastgesteld  gerealiseerd   \n",
       "3  2044277    primair  waterloop (watergang)  Vastgesteld  gerealiseerd   \n",
       "4  1190070    primair  waterloop (watergang)  Vastgesteld  gerealiseerd   \n",
       "\n",
       "                               HYDROOBJEC KRWSTROMEN  \\\n",
       "0  {7B2A550D-557F-451B-AEDE-1FDB6721B064}       None   \n",
       "1  {69740C00-EE97-45AD-8188-E3402DA32F19}       None   \n",
       "2  {8CBAE45D-54B8-44A5-9AC9-A7E2FA521FD2}       None   \n",
       "3  {421112E8-A9BA-4E53-AC32-CC5AEADF4D17}       None   \n",
       "4  {D52EEE21-9364-4F9C-B5E5-C3A5205315EB}       None   \n",
       "\n",
       "                               HYDROOBJ_1  BREEDTE  \\\n",
       "0  {B2C277B3-E0A6-485F-827C-41216D24412D}      0.0   \n",
       "1  {2D70EDA6-F8AC-4897-B64C-8FB119738024}      0.0   \n",
       "2  {EA6595C0-1689-43ED-BA66-320850478B49}      0.0   \n",
       "3  {CCE9D028-2C2D-49D7-8FE7-6F937124C0FB}      0.0   \n",
       "4  {34BD90ED-875B-4C18-802B-A57A479DCFBA}      0.0   \n",
       "\n",
       "                                            geometry  \n",
       "0  LINESTRING (150223.258 412143.16, 150223.076 4...  \n",
       "1  LINESTRING (151876.581 411604.163, 151871.758 ...  \n",
       "2  LINESTRING (163002.609 417664.746, 163002.497 ...  \n",
       "3  LINESTRING (153115.797 412182.957, 153115.215 ...  \n",
       "4  LINESTRING (150843.187 410863.016, 150838.463 ...  "
      ]
     },
     "execution_count": 6,
     "metadata": {},
     "output_type": "execute_result"
    }
   ],
   "source": [
    "hydro_objects.head()"
   ]
  },
  {
   "cell_type": "code",
   "execution_count": null,
   "metadata": {},
   "outputs": [],
   "source": []
  }
 ],
 "metadata": {
  "kernelspec": {
   "display_name": "Python 3",
   "language": "python",
   "name": "python3"
  },
  "language_info": {
   "codemirror_mode": {
    "name": "ipython",
    "version": 3
   },
   "file_extension": ".py",
   "mimetype": "text/x-python",
   "name": "python",
   "nbconvert_exporter": "python",
   "pygments_lexer": "ipython3",
   "version": "3.11.9"
  }
 },
 "nbformat": 4,
 "nbformat_minor": 2
}
