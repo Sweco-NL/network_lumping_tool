{
 "cells": [
  {
   "cell_type": "code",
   "execution_count": 1,
   "metadata": {},
   "outputs": [
    {
     "name": "stderr",
     "output_type": "stream",
     "text": [
      "c:\\Users\\NLHARN\\Documents\\PROGRAMMING\\network_lumping_tool\\.pixi\\envs\\default\\Lib\\site-packages\\tqdm\\auto.py:21: TqdmWarning: IProgress not found. Please update jupyter and ipywidgets. See https://ipywidgets.readthedocs.io/en/stable/user_install.html\n",
      "  from .autonotebook import tqdm as notebook_tqdm\n"
     ]
    }
   ],
   "source": [
    "from pathlib import Path\n",
    "import logging\n",
    "from dotenv import dotenv_values\n",
    "\n",
    "from network_lumping import run_network_lumping_to_generate_basins\n",
    "\n",
    "logging.basicConfig(level=logging.DEBUG)"
   ]
  },
  {
   "cell_type": "code",
   "execution_count": 2,
   "metadata": {},
   "outputs": [],
   "source": [
    "%load_ext autoreload\n",
    "%autoreload 2"
   ]
  },
  {
   "cell_type": "code",
   "execution_count": 3,
   "metadata": {},
   "outputs": [],
   "source": [
    "config = dotenv_values(\"..\\\\.env\")\n",
    "base_dir = Path(config[\"DATA_DIR\"])\n",
    "\n",
    "case_name = \"test\"\n",
    "# case_name = \"aa_en_maas\"\n",
    "\n",
    "case_path = Path(base_dir, case_name)"
   ]
  },
  {
   "cell_type": "code",
   "execution_count": 4,
   "metadata": {},
   "outputs": [
    {
     "name": "stderr",
     "output_type": "stream",
     "text": [
      "INFO:root: ### Case \"Test\" ###\n",
      "INFO:root:   x read basisdata\n",
      "DEBUG:root:    - get dataset hydroobjecten\n",
      "DEBUG:root:    - get dataset uitstroom_punten\n",
      "DEBUG:root:    - get dataset afwateringseenheden\n",
      "INFO:root:  x create network graph\n",
      "INFO:root:  x find upstream nodes and edges for 5 outflow locations\n",
      "DEBUG:root:   - find upstream nodes/edges for 25/696 nodes\n",
      "INFO:root:  x export results\n",
      "DEBUG:root:   - uitstroom_punten\n",
      "INFO:pyogrio._io:Created 25 records\n",
      "DEBUG:root:   - uitstroom_edges\n"
     ]
    },
    {
     "name": "stdout",
     "output_type": "stream",
     "text": [
      " * 25/25 (100.00%)\r"
     ]
    },
    {
     "name": "stderr",
     "output_type": "stream",
     "text": [
      "INFO:pyogrio._io:Created 777 records\n",
      "DEBUG:root:   - uitstroom_nodes\n",
      "INFO:pyogrio._io:Created 696 records\n"
     ]
    }
   ],
   "source": [
    "network = run_network_lumping_to_generate_basins(\n",
    "    path=case_path,\n",
    "    direction=\"upstream\",\n",
    "    no_uitstroom_punten=25,\n",
    "    html_file_name=None,\n",
    "    width_edges=10.0,\n",
    "    opacity_edges=0.5,\n",
    ")"
   ]
  },
  {
   "cell_type": "code",
   "execution_count": null,
   "metadata": {},
   "outputs": [],
   "source": []
  },
  {
   "cell_type": "code",
   "execution_count": null,
   "metadata": {},
   "outputs": [],
   "source": []
  },
  {
   "cell_type": "code",
   "execution_count": null,
   "metadata": {},
   "outputs": [],
   "source": []
  }
 ],
 "metadata": {
  "kernelspec": {
   "display_name": "default",
   "language": "python",
   "name": "python3"
  },
  "language_info": {
   "codemirror_mode": {
    "name": "ipython",
    "version": 3
   },
   "file_extension": ".py",
   "mimetype": "text/x-python",
   "name": "python",
   "nbconvert_exporter": "python",
   "pygments_lexer": "ipython3",
   "version": "3.12.7"
  }
 },
 "nbformat": 4,
 "nbformat_minor": 2
}
